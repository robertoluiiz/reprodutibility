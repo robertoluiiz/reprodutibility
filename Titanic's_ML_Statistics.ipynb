{
  "nbformat": 4,
  "nbformat_minor": 0,
  "metadata": {
    "colab": {
      "name": "Titanic's ML Statistics.ipynb",
      "version": "0.3.2",
      "provenance": [],
      "collapsed_sections": [],
      "toc_visible": true,
      "include_colab_link": true
    },
    "language_info": {
      "codemirror_mode": {
        "name": "ipython",
        "version": 3
      },
      "file_extension": ".py",
      "mimetype": "text/x-python",
      "name": "python",
      "nbconvert_exporter": "python",
      "pygments_lexer": "ipython3",
      "version": "3.5.2"
    },
    "kernelspec": {
      "display_name": "Python 3",
      "language": "python",
      "name": "python3"
    }
  },
  "cells": [
    {
      "cell_type": "markdown",
      "metadata": {
        "id": "view-in-github",
        "colab_type": "text"
      },
      "source": [
        "<a href=\"https://colab.research.google.com/github/robertoluiiz/reprodutibility/blob/master/Titanic's_ML_Statistics.ipynb\" target=\"_parent\"><img src=\"https://colab.research.google.com/assets/colab-badge.svg\" alt=\"Open In Colab\"/></a>"
      ]
    },
    {
      "metadata": {
        "id": "scvUrW2Cuhsd",
        "colab_type": "raw"
      },
      "cell_type": "markdown",
      "source": [
        "# Introdução\n",
        "\n",
        "O Titanic é uma tragédia de conhecimento global, 1503 perderam suas vidas naquela fatídica noite. Muito estudou-se desde 1912, para que acontecementos como este jamais voltassem a acontecer. O objetivo deste estudo no entanto, não é em cima da embarcação, mas sob os passageiros. Levantaremos uma análise estatística utilizando Aprendizado de Máquina de forma a determinar que fatores que influenciaram na sobrevivência das pessoas à bordo.\n",
        "\n",
        "A base de dados pública fornece os dados de 1309 pessoas que serão divididos em dois grupos, um que será utilizado para o treinamento da rede, e outro grupo será utilizado para a verificação. O objetivo final, é criar uma rede capaz de determinar com a maior acurácia se o indivíduo sobreviveu ou não ao acidente, com base nas informações públicas a seu respeito.\n"
      ]
    },
    {
      "metadata": {
        "id": "MTnlo6PHuhsf",
        "colab_type": "code",
        "outputId": "3e71037e-4187-41f0-ff41-a887214b6acd",
        "colab": {
          "base_uri": "https://localhost:8080/",
          "height": 362
        }
      },
      "cell_type": "code",
      "source": [
        "# Importing the libraries\n",
        "from IPython.display import display\n",
        "import numpy as np\n",
        "import matplotlib.pyplot as plt\n",
        "import pandas as pd\n",
        "import seaborn\n",
        "\n",
        "import warnings\n",
        "warnings.filterwarnings('ignore')\n",
        "\n",
        "url_data = 'https://raw.githubusercontent.com/robertoluiiz/reprodutibility/master/train.csv' # URL pointing to latest data.\n",
        "dataset = pd.read_csv(url_data)\n",
        "seaborn.set() \n",
        "\n",
        "#-------------------Survived/Died -------------------------------------\n",
        "survived = len(dataset[dataset['Survived']==1])\n",
        "dead = len(dataset[dataset['Survived']==0])\n",
        "\n",
        "df = pd.DataFrame([survived,dead])\n",
        "df.index = ['Survived','Died']\n",
        "df.plot(kind='bar',stacked=True, figsize=(5,3), title=\"Survived/Died\")\n",
        "\n",
        "# display table\n",
        "display(df)"
      ],
      "execution_count": 1,
      "outputs": [
        {
          "output_type": "display_data",
          "data": {
            "text/html": [
              "<div>\n",
              "<style scoped>\n",
              "    .dataframe tbody tr th:only-of-type {\n",
              "        vertical-align: middle;\n",
              "    }\n",
              "\n",
              "    .dataframe tbody tr th {\n",
              "        vertical-align: top;\n",
              "    }\n",
              "\n",
              "    .dataframe thead th {\n",
              "        text-align: right;\n",
              "    }\n",
              "</style>\n",
              "<table border=\"1\" class=\"dataframe\">\n",
              "  <thead>\n",
              "    <tr style=\"text-align: right;\">\n",
              "      <th></th>\n",
              "      <th>0</th>\n",
              "    </tr>\n",
              "  </thead>\n",
              "  <tbody>\n",
              "    <tr>\n",
              "      <th>Survived</th>\n",
              "      <td>342</td>\n",
              "    </tr>\n",
              "    <tr>\n",
              "      <th>Died</th>\n",
              "      <td>549</td>\n",
              "    </tr>\n",
              "  </tbody>\n",
              "</table>\n",
              "</div>"
            ],
            "text/plain": [
              "            0\n",
              "Survived  342\n",
              "Died      549"
            ]
          },
          "metadata": {
            "tags": []
          }
        },
        {
          "output_type": "display_data",
          "data": {
            "image/png": "[encoded data removed]",
            "text/plain": [
              "<Figure size 360x216 with 1 Axes>"
            ]
          },
          "metadata": {
            "tags": []
          }
        }
      ]
    }
  ]
}