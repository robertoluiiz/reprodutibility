{
 "cells": [
  {
   "cell_type": "raw",
   "metadata": {},
   "source": [
    "Introdução\n",
    "\n",
    "O Titanic é uma tragédia de conhecimento global, 1503 perderam suas vidas naquela fatídica noite. Muito estudou-se desde 1912, para que acontecementos como este jamais voltassem a acontecer. O objetivo deste estudo no entanto, não é em cima da embarcação, mas sob os passageiros. Levantaremos uma análise estatística utilizando Aprendizado de Máquina de forma a determinar que fatores que influenciaram na sobrevivência das pessoas à bordo.\n",
    "\n",
    "A base de dados pública fornece os dados de 1309 pessoas que serão divididos em dois grupos, um que será utilizado para o treinamento da rede, e outro grupo será utilizado para a verificação. O objetivo final, é criar uma rede capaz de determinar com a maior acurácia se o indivíduo sobreviveu ou não ao acidente, com base nas informações públicas a seu respeito."
   ]
  },
  {
   "cell_type": "code",
   "execution_count": 39,
   "metadata": {},
   "outputs": [
    {
     "data": {
      "text/html": [
       "<div>\n",
       "<style scoped>\n",
       "    .dataframe tbody tr th:only-of-type {\n",
       "        vertical-align: middle;\n",
       "    }\n",
       "\n",
       "    .dataframe tbody tr th {\n",
       "        vertical-align: top;\n",
       "    }\n",
       "\n",
       "    .dataframe thead th {\n",
       "        text-align: right;\n",
       "    }\n",
       "</style>\n",
       "<table border=\"1\" class=\"dataframe\">\n",
       "  <thead>\n",
       "    <tr style=\"text-align: right;\">\n",
       "      <th></th>\n",
       "      <th>0</th>\n",
       "    </tr>\n",
       "  </thead>\n",
       "  <tbody>\n",
       "    <tr>\n",
       "      <th>Survived</th>\n",
       "      <td>449</td>\n",
       "    </tr>\n",
       "    <tr>\n",
       "      <th>Died</th>\n",
       "      <td>549</td>\n",
       "    </tr>\n",
       "  </tbody>\n",
       "</table>\n",
       "</div>"
      ],
      "text/plain": [
       "            0\n",
       "Survived  449\n",
       "Died      549"
      ]
     },
     "metadata": {},
     "output_type": "display_data"
    },
    {
     "data": {
      "image/png": "[encoded data removed]",
      "text/plain": [
       "<Figure size 360x216 with 1 Axes>"
      ]
     },
     "metadata": {},
     "output_type": "display_data"
    }
   ],
   "source": [
    "# Importing the libraries\n",
    "from IPython.display import display\n",
    "import numpy as np\n",
    "import matplotlib.pyplot as plt\n",
    "import pandas as pd\n",
    "import seaborn\n",
    "\n",
    "import warnings\n",
    "warnings.filterwarnings('ignore')\n",
    "\n",
    "dataset = pd.read_csv('all-people.csv')\n",
    "seaborn.set() \n",
    "\n",
    "#-------------------Survived/Died -------------------------------------\n",
    "survived = len(dataset[dataset['Survived']==1])\n",
    "dead = len(dataset[dataset['Survived']==0])\n",
    "\n",
    "df = pd.DataFrame([survived,dead])\n",
    "df.index = ['Survived','Died']\n",
    "df.plot(kind='bar',stacked=True, figsize=(5,3), title=\"Survived/Died\")\n",
    "\n",
    "# display table\n",
    "display(df)"
   ]
  }
 ],
 "metadata": {
  "kernelspec": {
   "display_name": "Python 3",
   "language": "python",
   "name": "python3"
  },
  "language_info": {
   "codemirror_mode": {
    "name": "ipython",
    "version": 3
   },
   "file_extension": ".py",
   "mimetype": "text/x-python",
   "name": "python",
   "nbconvert_exporter": "python",
   "pygments_lexer": "ipython3",
   "version": "3.5.2"
  }
 },
 "nbformat": 4,
 "nbformat_minor": 2
}
